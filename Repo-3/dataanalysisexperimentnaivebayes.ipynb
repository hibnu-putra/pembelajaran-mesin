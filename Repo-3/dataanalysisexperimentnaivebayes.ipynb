{
  "nbformat": 4,
  "nbformat_minor": 0,
  "metadata": {
    "colab": {
      "provenance": [],
      "include_colab_link": true
    },
    "kernelspec": {
      "name": "python3",
      "display_name": "Python 3"
    },
    "language_info": {
      "name": "python"
    }
  },
  "cells": [
    {
      "cell_type": "markdown",
      "metadata": {
        "id": "view-in-github",
        "colab_type": "text"
      },
      "source": [
        "<a href=\"https://colab.research.google.com/github/hibnu-putra/pembelajaran-mesin/blob/main/Repo-3/dataanalysisexperimentnaivebayes.ipynb\" target=\"_parent\"><img src=\"https://colab.research.google.com/assets/colab-badge.svg\" alt=\"Open In Colab\"/></a>"
      ]
    },
    {
      "cell_type": "markdown",
      "source": [
        "Import Library"
      ],
      "metadata": {
        "id": "4YSYOTfa53_m"
      }
    },
    {
      "cell_type": "code",
      "execution_count": null,
      "metadata": {
        "id": "7NeTQzmU5a9t"
      },
      "outputs": [],
      "source": [
        "import pandas as pd\n",
        "import numpy as np"
      ]
    },
    {
      "cell_type": "code",
      "source": [
        "from sklearn.model_selection import train_test_split\n",
        "from sklearn.preprocessing import LabelEncoder, StandardScaler\n",
        "from sklearn.naive_bayes import GaussianNB\n",
        "from sklearn.metrics import classification_report, confusion_matrix, ConfusionMatrixDisplay\n",
        "import matplotlib.pyplot as plt"
      ],
      "metadata": {
        "id": "Mg8FCCZp5tEt"
      },
      "execution_count": null,
      "outputs": []
    },
    {
      "cell_type": "markdown",
      "source": [
        "Load Dataset"
      ],
      "metadata": {
        "id": "8Lsz4URK58NI"
      }
    },
    {
      "cell_type": "code",
      "source": [
        "df = pd.read_csv(\"Students_Grading_Dataset.csv\")\n",
        "df.head()"
      ],
      "metadata": {
        "colab": {
          "base_uri": "https://localhost:8080/",
          "height": 270
        },
        "id": "Igb22AiO5xkP",
        "outputId": "18b42899-d591-4185-898d-bbc5161437bf"
      },
      "execution_count": null,
      "outputs": [
        {
          "output_type": "execute_result",
          "data": {
            "text/plain": [
              "  Student_ID First_Name Last_Name                    Email  Gender  Age  \\\n",
              "0      S1000       Omar  Williams  student0@university.com  Female   22   \n",
              "1      S1001      Maria     Brown  student1@university.com    Male   18   \n",
              "2      S1002      Ahmed     Jones  student2@university.com    Male   24   \n",
              "3      S1003       Omar  Williams  student3@university.com  Female   24   \n",
              "4      S1004       John     Smith  student4@university.com  Female   23   \n",
              "\n",
              "    Department  Attendance (%)  Midterm_Score  Final_Score  ...  \\\n",
              "0  Engineering           52.29          55.03        57.82  ...   \n",
              "1  Engineering           97.27          97.23        45.80  ...   \n",
              "2     Business           57.19          67.05        93.68  ...   \n",
              "3  Mathematics           95.15          47.79        80.63  ...   \n",
              "4           CS           54.18          46.59        78.89  ...   \n",
              "\n",
              "   Projects_Score  Total_Score  Grade  Study_Hours_per_Week  \\\n",
              "0           85.90        56.09      F                   6.2   \n",
              "1           55.65        50.64      A                  19.0   \n",
              "2           73.79        70.30      D                  20.7   \n",
              "3           92.12        61.63      A                  24.8   \n",
              "4           68.42        66.13      F                  15.4   \n",
              "\n",
              "   Extracurricular_Activities Internet_Access_at_Home  Parent_Education_Level  \\\n",
              "0                          No                     Yes             High School   \n",
              "1                          No                     Yes                     NaN   \n",
              "2                          No                     Yes                Master's   \n",
              "3                         Yes                     Yes             High School   \n",
              "4                         Yes                     Yes             High School   \n",
              "\n",
              "  Family_Income_Level Stress_Level (1-10) Sleep_Hours_per_Night  \n",
              "0              Medium                   5                   4.7  \n",
              "1              Medium                   4                   9.0  \n",
              "2                 Low                   6                   6.2  \n",
              "3                High                   3                   6.7  \n",
              "4                High                   2                   7.1  \n",
              "\n",
              "[5 rows x 23 columns]"
            ],
            "text/html": [
              "\n",
              "  <div id=\"df-1a87493a-19e7-4a52-93fc-6dfce8e550ce\" class=\"colab-df-container\">\n",
              "    <div>\n",
              "<style scoped>\n",
              "    .dataframe tbody tr th:only-of-type {\n",
              "        vertical-align: middle;\n",
              "    }\n",
              "\n",
              "    .dataframe tbody tr th {\n",
              "        vertical-align: top;\n",
              "    }\n",
              "\n",
              "    .dataframe thead th {\n",
              "        text-align: right;\n",
              "    }\n",
              "</style>\n",
              "<table border=\"1\" class=\"dataframe\">\n",
              "  <thead>\n",
              "    <tr style=\"text-align: right;\">\n",
              "      <th></th>\n",
              "      <th>Student_ID</th>\n",
              "      <th>First_Name</th>\n",
              "      <th>Last_Name</th>\n",
              "      <th>Email</th>\n",
              "      <th>Gender</th>\n",
              "      <th>Age</th>\n",
              "      <th>Department</th>\n",
              "      <th>Attendance (%)</th>\n",
              "      <th>Midterm_Score</th>\n",
              "      <th>Final_Score</th>\n",
              "      <th>...</th>\n",
              "      <th>Projects_Score</th>\n",
              "      <th>Total_Score</th>\n",
              "      <th>Grade</th>\n",
              "      <th>Study_Hours_per_Week</th>\n",
              "      <th>Extracurricular_Activities</th>\n",
              "      <th>Internet_Access_at_Home</th>\n",
              "      <th>Parent_Education_Level</th>\n",
              "      <th>Family_Income_Level</th>\n",
              "      <th>Stress_Level (1-10)</th>\n",
              "      <th>Sleep_Hours_per_Night</th>\n",
              "    </tr>\n",
              "  </thead>\n",
              "  <tbody>\n",
              "    <tr>\n",
              "      <th>0</th>\n",
              "      <td>S1000</td>\n",
              "      <td>Omar</td>\n",
              "      <td>Williams</td>\n",
              "      <td>student0@university.com</td>\n",
              "      <td>Female</td>\n",
              "      <td>22</td>\n",
              "      <td>Engineering</td>\n",
              "      <td>52.29</td>\n",
              "      <td>55.03</td>\n",
              "      <td>57.82</td>\n",
              "      <td>...</td>\n",
              "      <td>85.90</td>\n",
              "      <td>56.09</td>\n",
              "      <td>F</td>\n",
              "      <td>6.2</td>\n",
              "      <td>No</td>\n",
              "      <td>Yes</td>\n",
              "      <td>High School</td>\n",
              "      <td>Medium</td>\n",
              "      <td>5</td>\n",
              "      <td>4.7</td>\n",
              "    </tr>\n",
              "    <tr>\n",
              "      <th>1</th>\n",
              "      <td>S1001</td>\n",
              "      <td>Maria</td>\n",
              "      <td>Brown</td>\n",
              "      <td>student1@university.com</td>\n",
              "      <td>Male</td>\n",
              "      <td>18</td>\n",
              "      <td>Engineering</td>\n",
              "      <td>97.27</td>\n",
              "      <td>97.23</td>\n",
              "      <td>45.80</td>\n",
              "      <td>...</td>\n",
              "      <td>55.65</td>\n",
              "      <td>50.64</td>\n",
              "      <td>A</td>\n",
              "      <td>19.0</td>\n",
              "      <td>No</td>\n",
              "      <td>Yes</td>\n",
              "      <td>NaN</td>\n",
              "      <td>Medium</td>\n",
              "      <td>4</td>\n",
              "      <td>9.0</td>\n",
              "    </tr>\n",
              "    <tr>\n",
              "      <th>2</th>\n",
              "      <td>S1002</td>\n",
              "      <td>Ahmed</td>\n",
              "      <td>Jones</td>\n",
              "      <td>student2@university.com</td>\n",
              "      <td>Male</td>\n",
              "      <td>24</td>\n",
              "      <td>Business</td>\n",
              "      <td>57.19</td>\n",
              "      <td>67.05</td>\n",
              "      <td>93.68</td>\n",
              "      <td>...</td>\n",
              "      <td>73.79</td>\n",
              "      <td>70.30</td>\n",
              "      <td>D</td>\n",
              "      <td>20.7</td>\n",
              "      <td>No</td>\n",
              "      <td>Yes</td>\n",
              "      <td>Master's</td>\n",
              "      <td>Low</td>\n",
              "      <td>6</td>\n",
              "      <td>6.2</td>\n",
              "    </tr>\n",
              "    <tr>\n",
              "      <th>3</th>\n",
              "      <td>S1003</td>\n",
              "      <td>Omar</td>\n",
              "      <td>Williams</td>\n",
              "      <td>student3@university.com</td>\n",
              "      <td>Female</td>\n",
              "      <td>24</td>\n",
              "      <td>Mathematics</td>\n",
              "      <td>95.15</td>\n",
              "      <td>47.79</td>\n",
              "      <td>80.63</td>\n",
              "      <td>...</td>\n",
              "      <td>92.12</td>\n",
              "      <td>61.63</td>\n",
              "      <td>A</td>\n",
              "      <td>24.8</td>\n",
              "      <td>Yes</td>\n",
              "      <td>Yes</td>\n",
              "      <td>High School</td>\n",
              "      <td>High</td>\n",
              "      <td>3</td>\n",
              "      <td>6.7</td>\n",
              "    </tr>\n",
              "    <tr>\n",
              "      <th>4</th>\n",
              "      <td>S1004</td>\n",
              "      <td>John</td>\n",
              "      <td>Smith</td>\n",
              "      <td>student4@university.com</td>\n",
              "      <td>Female</td>\n",
              "      <td>23</td>\n",
              "      <td>CS</td>\n",
              "      <td>54.18</td>\n",
              "      <td>46.59</td>\n",
              "      <td>78.89</td>\n",
              "      <td>...</td>\n",
              "      <td>68.42</td>\n",
              "      <td>66.13</td>\n",
              "      <td>F</td>\n",
              "      <td>15.4</td>\n",
              "      <td>Yes</td>\n",
              "      <td>Yes</td>\n",
              "      <td>High School</td>\n",
              "      <td>High</td>\n",
              "      <td>2</td>\n",
              "      <td>7.1</td>\n",
              "    </tr>\n",
              "  </tbody>\n",
              "</table>\n",
              "<p>5 rows × 23 columns</p>\n",
              "</div>\n",
              "    <div class=\"colab-df-buttons\">\n",
              "\n",
              "  <div class=\"colab-df-container\">\n",
              "    <button class=\"colab-df-convert\" onclick=\"convertToInteractive('df-1a87493a-19e7-4a52-93fc-6dfce8e550ce')\"\n",
              "            title=\"Convert this dataframe to an interactive table.\"\n",
              "            style=\"display:none;\">\n",
              "\n",
              "  <svg xmlns=\"http://www.w3.org/2000/svg\" height=\"24px\" viewBox=\"0 -960 960 960\">\n",
              "    <path d=\"M120-120v-720h720v720H120Zm60-500h600v-160H180v160Zm220 220h160v-160H400v160Zm0 220h160v-160H400v160ZM180-400h160v-160H180v160Zm440 0h160v-160H620v160ZM180-180h160v-160H180v160Zm440 0h160v-160H620v160Z\"/>\n",
              "  </svg>\n",
              "    </button>\n",
              "\n",
              "  <style>\n",
              "    .colab-df-container {\n",
              "      display:flex;\n",
              "      gap: 12px;\n",
              "    }\n",
              "\n",
              "    .colab-df-convert {\n",
              "      background-color: #E8F0FE;\n",
              "      border: none;\n",
              "      border-radius: 50%;\n",
              "      cursor: pointer;\n",
              "      display: none;\n",
              "      fill: #1967D2;\n",
              "      height: 32px;\n",
              "      padding: 0 0 0 0;\n",
              "      width: 32px;\n",
              "    }\n",
              "\n",
              "    .colab-df-convert:hover {\n",
              "      background-color: #E2EBFA;\n",
              "      box-shadow: 0px 1px 2px rgba(60, 64, 67, 0.3), 0px 1px 3px 1px rgba(60, 64, 67, 0.15);\n",
              "      fill: #174EA6;\n",
              "    }\n",
              "\n",
              "    .colab-df-buttons div {\n",
              "      margin-bottom: 4px;\n",
              "    }\n",
              "\n",
              "    [theme=dark] .colab-df-convert {\n",
              "      background-color: #3B4455;\n",
              "      fill: #D2E3FC;\n",
              "    }\n",
              "\n",
              "    [theme=dark] .colab-df-convert:hover {\n",
              "      background-color: #434B5C;\n",
              "      box-shadow: 0px 1px 3px 1px rgba(0, 0, 0, 0.15);\n",
              "      filter: drop-shadow(0px 1px 2px rgba(0, 0, 0, 0.3));\n",
              "      fill: #FFFFFF;\n",
              "    }\n",
              "  </style>\n",
              "\n",
              "    <script>\n",
              "      const buttonEl =\n",
              "        document.querySelector('#df-1a87493a-19e7-4a52-93fc-6dfce8e550ce button.colab-df-convert');\n",
              "      buttonEl.style.display =\n",
              "        google.colab.kernel.accessAllowed ? 'block' : 'none';\n",
              "\n",
              "      async function convertToInteractive(key) {\n",
              "        const element = document.querySelector('#df-1a87493a-19e7-4a52-93fc-6dfce8e550ce');\n",
              "        const dataTable =\n",
              "          await google.colab.kernel.invokeFunction('convertToInteractive',\n",
              "                                                    [key], {});\n",
              "        if (!dataTable) return;\n",
              "\n",
              "        const docLinkHtml = 'Like what you see? Visit the ' +\n",
              "          '<a target=\"_blank\" href=https://colab.research.google.com/notebooks/data_table.ipynb>data table notebook</a>'\n",
              "          + ' to learn more about interactive tables.';\n",
              "        element.innerHTML = '';\n",
              "        dataTable['output_type'] = 'display_data';\n",
              "        await google.colab.output.renderOutput(dataTable, element);\n",
              "        const docLink = document.createElement('div');\n",
              "        docLink.innerHTML = docLinkHtml;\n",
              "        element.appendChild(docLink);\n",
              "      }\n",
              "    </script>\n",
              "  </div>\n",
              "\n",
              "\n",
              "    <div id=\"df-acfbbb80-9a33-4c76-a153-022d0364e1c4\">\n",
              "      <button class=\"colab-df-quickchart\" onclick=\"quickchart('df-acfbbb80-9a33-4c76-a153-022d0364e1c4')\"\n",
              "                title=\"Suggest charts\"\n",
              "                style=\"display:none;\">\n",
              "\n",
              "<svg xmlns=\"http://www.w3.org/2000/svg\" height=\"24px\"viewBox=\"0 0 24 24\"\n",
              "     width=\"24px\">\n",
              "    <g>\n",
              "        <path d=\"M19 3H5c-1.1 0-2 .9-2 2v14c0 1.1.9 2 2 2h14c1.1 0 2-.9 2-2V5c0-1.1-.9-2-2-2zM9 17H7v-7h2v7zm4 0h-2V7h2v10zm4 0h-2v-4h2v4z\"/>\n",
              "    </g>\n",
              "</svg>\n",
              "      </button>\n",
              "\n",
              "<style>\n",
              "  .colab-df-quickchart {\n",
              "      --bg-color: #E8F0FE;\n",
              "      --fill-color: #1967D2;\n",
              "      --hover-bg-color: #E2EBFA;\n",
              "      --hover-fill-color: #174EA6;\n",
              "      --disabled-fill-color: #AAA;\n",
              "      --disabled-bg-color: #DDD;\n",
              "  }\n",
              "\n",
              "  [theme=dark] .colab-df-quickchart {\n",
              "      --bg-color: #3B4455;\n",
              "      --fill-color: #D2E3FC;\n",
              "      --hover-bg-color: #434B5C;\n",
              "      --hover-fill-color: #FFFFFF;\n",
              "      --disabled-bg-color: #3B4455;\n",
              "      --disabled-fill-color: #666;\n",
              "  }\n",
              "\n",
              "  .colab-df-quickchart {\n",
              "    background-color: var(--bg-color);\n",
              "    border: none;\n",
              "    border-radius: 50%;\n",
              "    cursor: pointer;\n",
              "    display: none;\n",
              "    fill: var(--fill-color);\n",
              "    height: 32px;\n",
              "    padding: 0;\n",
              "    width: 32px;\n",
              "  }\n",
              "\n",
              "  .colab-df-quickchart:hover {\n",
              "    background-color: var(--hover-bg-color);\n",
              "    box-shadow: 0 1px 2px rgba(60, 64, 67, 0.3), 0 1px 3px 1px rgba(60, 64, 67, 0.15);\n",
              "    fill: var(--button-hover-fill-color);\n",
              "  }\n",
              "\n",
              "  .colab-df-quickchart-complete:disabled,\n",
              "  .colab-df-quickchart-complete:disabled:hover {\n",
              "    background-color: var(--disabled-bg-color);\n",
              "    fill: var(--disabled-fill-color);\n",
              "    box-shadow: none;\n",
              "  }\n",
              "\n",
              "  .colab-df-spinner {\n",
              "    border: 2px solid var(--fill-color);\n",
              "    border-color: transparent;\n",
              "    border-bottom-color: var(--fill-color);\n",
              "    animation:\n",
              "      spin 1s steps(1) infinite;\n",
              "  }\n",
              "\n",
              "  @keyframes spin {\n",
              "    0% {\n",
              "      border-color: transparent;\n",
              "      border-bottom-color: var(--fill-color);\n",
              "      border-left-color: var(--fill-color);\n",
              "    }\n",
              "    20% {\n",
              "      border-color: transparent;\n",
              "      border-left-color: var(--fill-color);\n",
              "      border-top-color: var(--fill-color);\n",
              "    }\n",
              "    30% {\n",
              "      border-color: transparent;\n",
              "      border-left-color: var(--fill-color);\n",
              "      border-top-color: var(--fill-color);\n",
              "      border-right-color: var(--fill-color);\n",
              "    }\n",
              "    40% {\n",
              "      border-color: transparent;\n",
              "      border-right-color: var(--fill-color);\n",
              "      border-top-color: var(--fill-color);\n",
              "    }\n",
              "    60% {\n",
              "      border-color: transparent;\n",
              "      border-right-color: var(--fill-color);\n",
              "    }\n",
              "    80% {\n",
              "      border-color: transparent;\n",
              "      border-right-color: var(--fill-color);\n",
              "      border-bottom-color: var(--fill-color);\n",
              "    }\n",
              "    90% {\n",
              "      border-color: transparent;\n",
              "      border-bottom-color: var(--fill-color);\n",
              "    }\n",
              "  }\n",
              "</style>\n",
              "\n",
              "      <script>\n",
              "        async function quickchart(key) {\n",
              "          const quickchartButtonEl =\n",
              "            document.querySelector('#' + key + ' button');\n",
              "          quickchartButtonEl.disabled = true;  // To prevent multiple clicks.\n",
              "          quickchartButtonEl.classList.add('colab-df-spinner');\n",
              "          try {\n",
              "            const charts = await google.colab.kernel.invokeFunction(\n",
              "                'suggestCharts', [key], {});\n",
              "          } catch (error) {\n",
              "            console.error('Error during call to suggestCharts:', error);\n",
              "          }\n",
              "          quickchartButtonEl.classList.remove('colab-df-spinner');\n",
              "          quickchartButtonEl.classList.add('colab-df-quickchart-complete');\n",
              "        }\n",
              "        (() => {\n",
              "          let quickchartButtonEl =\n",
              "            document.querySelector('#df-acfbbb80-9a33-4c76-a153-022d0364e1c4 button');\n",
              "          quickchartButtonEl.style.display =\n",
              "            google.colab.kernel.accessAllowed ? 'block' : 'none';\n",
              "        })();\n",
              "      </script>\n",
              "    </div>\n",
              "\n",
              "    </div>\n",
              "  </div>\n"
            ],
            "application/vnd.google.colaboratory.intrinsic+json": {
              "type": "dataframe",
              "variable_name": "df"
            }
          },
          "metadata": {},
          "execution_count": 37
        }
      ]
    },
    {
      "cell_type": "markdown",
      "source": [
        "Preprocessing"
      ],
      "metadata": {
        "id": "YOzMUbXK6Fvh"
      }
    },
    {
      "cell_type": "code",
      "source": [
        "df.dropna(inplace=True)"
      ],
      "metadata": {
        "id": "bN_keYVI6mT7"
      },
      "execution_count": null,
      "outputs": []
    },
    {
      "cell_type": "code",
      "source": [
        "label_encoder = LabelEncoder()\n",
        "df['Grade'] = label_encoder.fit_transform(df['Grade'])"
      ],
      "metadata": {
        "id": "XniKTSX253jC"
      },
      "execution_count": null,
      "outputs": []
    },
    {
      "cell_type": "code",
      "source": [
        "X = df.drop('Grade', axis=1)\n",
        "y = df['Grade']"
      ],
      "metadata": {
        "id": "KYm7KPkt6EuR"
      },
      "execution_count": null,
      "outputs": []
    },
    {
      "cell_type": "code",
      "source": [
        "X = pd.get_dummies(X)"
      ],
      "metadata": {
        "id": "0hbCA-Ym6Ieb"
      },
      "execution_count": null,
      "outputs": []
    },
    {
      "cell_type": "code",
      "source": [
        "scaler = StandardScaler()\n",
        "X_scaled = scaler.fit_transform(X)"
      ],
      "metadata": {
        "id": "Ig-ylEkO6Lx1"
      },
      "execution_count": null,
      "outputs": []
    },
    {
      "cell_type": "code",
      "source": [
        "X_train, X_test, y_train, y_test = train_test_split(X_scaled, y, test_size=0.2, random_state=42)"
      ],
      "metadata": {
        "id": "7AC74iVC6Rna"
      },
      "execution_count": null,
      "outputs": []
    },
    {
      "cell_type": "markdown",
      "source": [
        "Naive Bayes"
      ],
      "metadata": {
        "id": "-i4DW_LV6YNP"
      }
    },
    {
      "cell_type": "code",
      "source": [
        "model = GaussianNB()\n",
        "model.fit(X_train, y_train)\n",
        "y_pred = model.predict(X_test)"
      ],
      "metadata": {
        "id": "KtFVLQ8f6U5L"
      },
      "execution_count": null,
      "outputs": []
    },
    {
      "cell_type": "markdown",
      "source": [
        "Evaluasi"
      ],
      "metadata": {
        "id": "U7M61Umw6wD9"
      }
    },
    {
      "cell_type": "code",
      "source": [
        "print(\"Classification Report:\")\n",
        "print(classification_report(y_test, y_pred, target_names=[str(c) for c in label_encoder.classes_]))"
      ],
      "metadata": {
        "colab": {
          "base_uri": "https://localhost:8080/"
        },
        "id": "R3DjXDdL6tSX",
        "outputId": "3d855160-8c10-48fb-cb42-25a9bd21f18b"
      },
      "execution_count": null,
      "outputs": [
        {
          "output_type": "stream",
          "name": "stdout",
          "text": [
            "Classification Report:\n",
            "              precision    recall  f1-score   support\n",
            "\n",
            "           A       0.00      0.00      0.00       171\n",
            "           B       0.00      0.00      0.00        93\n",
            "           C       0.00      0.00      0.00        81\n",
            "           D       0.00      0.00      0.00        81\n",
            "           F       0.18      1.00      0.30        91\n",
            "\n",
            "    accuracy                           0.18       517\n",
            "   macro avg       0.04      0.20      0.06       517\n",
            "weighted avg       0.03      0.18      0.05       517\n",
            "\n"
          ]
        },
        {
          "output_type": "stream",
          "name": "stderr",
          "text": [
            "/usr/local/lib/python3.11/dist-packages/sklearn/metrics/_classification.py:1565: UndefinedMetricWarning: Precision is ill-defined and being set to 0.0 in labels with no predicted samples. Use `zero_division` parameter to control this behavior.\n",
            "  _warn_prf(average, modifier, f\"{metric.capitalize()} is\", len(result))\n",
            "/usr/local/lib/python3.11/dist-packages/sklearn/metrics/_classification.py:1565: UndefinedMetricWarning: Precision is ill-defined and being set to 0.0 in labels with no predicted samples. Use `zero_division` parameter to control this behavior.\n",
            "  _warn_prf(average, modifier, f\"{metric.capitalize()} is\", len(result))\n",
            "/usr/local/lib/python3.11/dist-packages/sklearn/metrics/_classification.py:1565: UndefinedMetricWarning: Precision is ill-defined and being set to 0.0 in labels with no predicted samples. Use `zero_division` parameter to control this behavior.\n",
            "  _warn_prf(average, modifier, f\"{metric.capitalize()} is\", len(result))\n"
          ]
        }
      ]
    },
    {
      "cell_type": "code",
      "source": [
        "cm = confusion_matrix(y_test, y_pred)\n",
        "disp = ConfusionMatrixDisplay(confusion_matrix=cm, display_labels=label_encoder.classes_)\n",
        "disp.plot(cmap=\"Blues\")\n",
        "plt.title(\"Confusion Matrix - Naive Bayes\")\n",
        "plt.show()"
      ],
      "metadata": {
        "colab": {
          "base_uri": "https://localhost:8080/",
          "height": 472
        },
        "id": "LeB6REyi7P8D",
        "outputId": "99af80a4-9ccc-4efa-c57f-30becfa8a231"
      },
      "execution_count": null,
      "outputs": [
        {
          "output_type": "display_data",
          "data": {
            "text/plain": [
              "<Figure size 640x480 with 2 Axes>"
            ],
            "image/png": "[encoded data removed]"
          },
          "metadata": {}
        }
      ]
    }
  ]
}